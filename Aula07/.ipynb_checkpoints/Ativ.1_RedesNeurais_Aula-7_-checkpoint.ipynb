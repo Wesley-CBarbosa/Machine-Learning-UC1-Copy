{
 "cells": [
  {
   "cell_type": "code",
   "execution_count": 5,
   "id": "265ed70b-ec8a-4321-b6f2-24bdaac58452",
   "metadata": {},
   "outputs": [],
   "source": [
    "import tensorflow as tf\n",
    "from tensorflow.keras import layers, models"
   ]
  },
  {
   "cell_type": "code",
   "execution_count": 6,
   "id": "806fcf2d-44bf-4710-a463-25086a5c1b7b",
   "metadata": {},
   "outputs": [
    {
     "name": "stdout",
     "output_type": "stream",
     "text": [
      "Downloading data from https://www.cs.toronto.edu/~kriz/cifar-10-python.tar.gz\n",
      "\u001b[1m170498071/170498071\u001b[0m \u001b[32m━━━━━━━━━━━━━━━━━━━━\u001b[0m\u001b[37m\u001b[0m \u001b[1m183s\u001b[0m 1us/step\n"
     ]
    }
   ],
   "source": [
    "(x_train, y_train), (x_test, y_test) = tf.keras.datasets.cifar10.load_data()"
   ]
  },
  {
   "cell_type": "code",
   "execution_count": 7,
   "id": "8ca7d8b8-7358-433d-9d06-d49a4440bb9f",
   "metadata": {},
   "outputs": [
    {
     "data": {
      "text/plain": [
       "array([[[[ 59,  62,  63],\n",
       "         [ 43,  46,  45],\n",
       "         [ 50,  48,  43],\n",
       "         ...,\n",
       "         [158, 132, 108],\n",
       "         [152, 125, 102],\n",
       "         [148, 124, 103]],\n",
       "\n",
       "        [[ 16,  20,  20],\n",
       "         [  0,   0,   0],\n",
       "         [ 18,   8,   0],\n",
       "         ...,\n",
       "         [123,  88,  55],\n",
       "         [119,  83,  50],\n",
       "         [122,  87,  57]],\n",
       "\n",
       "        [[ 25,  24,  21],\n",
       "         [ 16,   7,   0],\n",
       "         [ 49,  27,   8],\n",
       "         ...,\n",
       "         [118,  84,  50],\n",
       "         [120,  84,  50],\n",
       "         [109,  73,  42]],\n",
       "\n",
       "        ...,\n",
       "\n",
       "        [[208, 170,  96],\n",
       "         [201, 153,  34],\n",
       "         [198, 161,  26],\n",
       "         ...,\n",
       "         [160, 133,  70],\n",
       "         [ 56,  31,   7],\n",
       "         [ 53,  34,  20]],\n",
       "\n",
       "        [[180, 139,  96],\n",
       "         [173, 123,  42],\n",
       "         [186, 144,  30],\n",
       "         ...,\n",
       "         [184, 148,  94],\n",
       "         [ 97,  62,  34],\n",
       "         [ 83,  53,  34]],\n",
       "\n",
       "        [[177, 144, 116],\n",
       "         [168, 129,  94],\n",
       "         [179, 142,  87],\n",
       "         ...,\n",
       "         [216, 184, 140],\n",
       "         [151, 118,  84],\n",
       "         [123,  92,  72]]]], dtype=uint8)"
      ]
     },
     "execution_count": 7,
     "metadata": {},
     "output_type": "execute_result"
    }
   ],
   "source": [
    "x_train[0:1]"
   ]
  },
  {
   "cell_type": "code",
   "execution_count": 9,
   "id": "6aeecd98-6cbb-4f24-8b32-84ddc6ffbbf9",
   "metadata": {},
   "outputs": [],
   "source": [
    "# Normalizar os valores dos pixels entre 0 e 1\n",
    "x_train = x_train.astype('float32') / 255\n",
    "x_test = x_test.astype('float32') / 255"
   ]
  },
  {
   "cell_type": "code",
   "execution_count": 10,
   "id": "d6bae7a0-7ab8-4370-835c-b202b73ba126",
   "metadata": {},
   "outputs": [
    {
     "data": {
      "text/plain": [
       "array([[[[0.00090734, 0.00095348, 0.00096886],\n",
       "         [0.00066128, 0.00070742, 0.00069204],\n",
       "         [0.00076894, 0.00073818, 0.00066128],\n",
       "         ...,\n",
       "         [0.00242983, 0.00202999, 0.0016609 ],\n",
       "         [0.00233756, 0.00192234, 0.00156863],\n",
       "         [0.00227605, 0.00190696, 0.00158401]],\n",
       "\n",
       "        [[0.00024606, 0.00030757, 0.00030757],\n",
       "         [0.        , 0.        , 0.        ],\n",
       "         [0.00027682, 0.00012303, 0.        ],\n",
       "         ...,\n",
       "         [0.00189158, 0.00135333, 0.00084583],\n",
       "         [0.00183007, 0.00127643, 0.00076894],\n",
       "         [0.0018762 , 0.00133795, 0.00087659]],\n",
       "\n",
       "        [[0.00038447, 0.00036909, 0.00032295],\n",
       "         [0.00024606, 0.00010765, 0.        ],\n",
       "         [0.00075356, 0.00041522, 0.00012303],\n",
       "         ...,\n",
       "         [0.00181469, 0.00129181, 0.00076894],\n",
       "         [0.00184544, 0.00129181, 0.00076894],\n",
       "         [0.00167628, 0.00112265, 0.00064591]],\n",
       "\n",
       "        ...,\n",
       "\n",
       "        [[0.00319877, 0.00261438, 0.00147636],\n",
       "         [0.00309112, 0.00235294, 0.00052288],\n",
       "         [0.00304498, 0.00247597, 0.00039985],\n",
       "         ...,\n",
       "         [0.00246059, 0.00204537, 0.00107651],\n",
       "         [0.00086121, 0.00047674, 0.00010765],\n",
       "         [0.00081507, 0.00052288, 0.00030757]],\n",
       "\n",
       "        [[0.00276817, 0.00213764, 0.00147636],\n",
       "         [0.00266052, 0.00189158, 0.00064591],\n",
       "         [0.00286044, 0.00221453, 0.00046136],\n",
       "         ...,\n",
       "         [0.00282968, 0.00227605, 0.0014456 ],\n",
       "         [0.00149173, 0.00095348, 0.00052288],\n",
       "         [0.00127643, 0.00081507, 0.00052288]],\n",
       "\n",
       "        [[0.00272203, 0.00221453, 0.00178393],\n",
       "         [0.00258362, 0.00198385, 0.0014456 ],\n",
       "         [0.00275279, 0.00218378, 0.00133795],\n",
       "         ...,\n",
       "         [0.0033218 , 0.00282968, 0.00215302],\n",
       "         [0.00232218, 0.00181469, 0.00129181],\n",
       "         [0.00189158, 0.00141484, 0.00110727]]]], dtype=float32)"
      ]
     },
     "execution_count": 10,
     "metadata": {},
     "output_type": "execute_result"
    }
   ],
   "source": [
    "x_train[0:1]"
   ]
  },
  {
   "cell_type": "code",
   "execution_count": 11,
   "id": "a57764ca-d61c-4b4e-97ac-d5593248426e",
   "metadata": {},
   "outputs": [],
   "source": [
    "# Converter rótulos para one-hot encoding\n",
    "y_train = tf.keras.utils.to_categorical(y_train, 10)\n",
    "y_test = tf.keras.utils.to_categorical(y_test, 10)"
   ]
  },
  {
   "cell_type": "code",
   "execution_count": 14,
   "id": "4c8c388d-6e33-4ad1-9bde-c185a4343b77",
   "metadata": {},
   "outputs": [],
   "source": [
    "model = models.Sequential()"
   ]
  },
  {
   "cell_type": "code",
   "execution_count": 15,
   "id": "216d45a0-ecd2-4f6c-b2e2-d9cf5c79aef8",
   "metadata": {},
   "outputs": [],
   "source": [
    "# Primeira camada convolucional + pooling\n",
    "model.add(layers.Conv2D(32, (3, 3), activation='relu', input_shape=(32, 32, 3)))\n",
    "model.add(layers.MaxPooling2D((2, 2)))"
   ]
  },
  {
   "cell_type": "code",
   "execution_count": 16,
   "id": "0d76c19e-407f-4942-8911-cdc8ed584eb5",
   "metadata": {},
   "outputs": [],
   "source": [
    "# Segunda camada convolucional + pooling\n",
    "model.add(layers.Conv2D(64, (3, 3), activation='relu'))\n",
    "model.add(layers.MaxPooling2D((2, 2)))"
   ]
  },
  {
   "cell_type": "code",
   "execution_count": 17,
   "id": "25a059e9-a28a-4b0d-b770-5a9fe287567d",
   "metadata": {},
   "outputs": [],
   "source": [
    "# Terceira camada convolucional\n",
    "model.add(layers.Conv2D(64, (3, 3), activation='relu'))\n",
    "\n",
    "# Achatar para passar para camadas densas\n",
    "model.add(layers.Flatten())"
   ]
  },
  {
   "cell_type": "code",
   "execution_count": 18,
   "id": "cd874f3d-821c-42ce-98f0-899878aba291",
   "metadata": {},
   "outputs": [],
   "source": [
    "# Camadas densas finais\n",
    "model.add(layers.Dense(64, activation='relu'))\n",
    "model.add(layers.Dense(10, activation='softmax'))  # 10 classes"
   ]
  },
  {
   "cell_type": "code",
   "execution_count": 19,
   "id": "68d473c1-80b1-4634-bbeb-177c082fea7a",
   "metadata": {},
   "outputs": [],
   "source": [
    "model.compile(optimizer='adam',\n",
    "              loss='categorical_crossentropy',\n",
    "              metrics=['accuracy'])"
   ]
  },
  {
   "cell_type": "code",
   "execution_count": 22,
   "id": "68cfa798-fa75-43ba-9a50-b62b9a3f2312",
   "metadata": {},
   "outputs": [
    {
     "name": "stdout",
     "output_type": "stream",
     "text": [
      "Epoch 1/10\n",
      "\u001b[1m625/625\u001b[0m \u001b[32m━━━━━━━━━━━━━━━━━━━━\u001b[0m\u001b[37m\u001b[0m \u001b[1m4s\u001b[0m 6ms/step - accuracy: 0.0964 - loss: 2.3027 - val_accuracy: 0.0977 - val_loss: 2.3027\n",
      "Epoch 2/10\n",
      "\u001b[1m625/625\u001b[0m \u001b[32m━━━━━━━━━━━━━━━━━━━━\u001b[0m\u001b[37m\u001b[0m \u001b[1m4s\u001b[0m 6ms/step - accuracy: 0.1010 - loss: 2.3027 - val_accuracy: 0.0952 - val_loss: 2.3028\n",
      "Epoch 3/10\n",
      "\u001b[1m625/625\u001b[0m \u001b[32m━━━━━━━━━━━━━━━━━━━━\u001b[0m\u001b[37m\u001b[0m \u001b[1m4s\u001b[0m 6ms/step - accuracy: 0.0994 - loss: 2.3026 - val_accuracy: 0.0952 - val_loss: 2.3028\n",
      "Epoch 4/10\n",
      "\u001b[1m625/625\u001b[0m \u001b[32m━━━━━━━━━━━━━━━━━━━━\u001b[0m\u001b[37m\u001b[0m \u001b[1m4s\u001b[0m 6ms/step - accuracy: 0.1040 - loss: 2.3025 - val_accuracy: 0.0952 - val_loss: 2.3027\n",
      "Epoch 5/10\n",
      "\u001b[1m625/625\u001b[0m \u001b[32m━━━━━━━━━━━━━━━━━━━━\u001b[0m\u001b[37m\u001b[0m \u001b[1m4s\u001b[0m 6ms/step - accuracy: 0.1031 - loss: 2.3026 - val_accuracy: 0.0977 - val_loss: 2.3027\n",
      "Epoch 6/10\n",
      "\u001b[1m625/625\u001b[0m \u001b[32m━━━━━━━━━━━━━━━━━━━━\u001b[0m\u001b[37m\u001b[0m \u001b[1m4s\u001b[0m 6ms/step - accuracy: 0.1013 - loss: 2.3027 - val_accuracy: 0.0952 - val_loss: 2.3027\n",
      "Epoch 7/10\n",
      "\u001b[1m625/625\u001b[0m \u001b[32m━━━━━━━━━━━━━━━━━━━━\u001b[0m\u001b[37m\u001b[0m \u001b[1m4s\u001b[0m 6ms/step - accuracy: 0.0968 - loss: 2.3027 - val_accuracy: 0.0952 - val_loss: 2.3027\n",
      "Epoch 8/10\n",
      "\u001b[1m625/625\u001b[0m \u001b[32m━━━━━━━━━━━━━━━━━━━━\u001b[0m\u001b[37m\u001b[0m \u001b[1m4s\u001b[0m 6ms/step - accuracy: 0.0980 - loss: 2.3027 - val_accuracy: 0.0952 - val_loss: 2.3028\n",
      "Epoch 9/10\n",
      "\u001b[1m625/625\u001b[0m \u001b[32m━━━━━━━━━━━━━━━━━━━━\u001b[0m\u001b[37m\u001b[0m \u001b[1m4s\u001b[0m 6ms/step - accuracy: 0.1017 - loss: 2.3026 - val_accuracy: 0.0952 - val_loss: 2.3027\n",
      "Epoch 10/10\n",
      "\u001b[1m625/625\u001b[0m \u001b[32m━━━━━━━━━━━━━━━━━━━━\u001b[0m\u001b[37m\u001b[0m \u001b[1m4s\u001b[0m 6ms/step - accuracy: 0.0983 - loss: 2.3027 - val_accuracy: 0.0952 - val_loss: 2.3028\n"
     ]
    }
   ],
   "source": [
    "history = model.fit(x_train, y_train, epochs=10, batch_size=64, validation_split=0.2)"
   ]
  },
  {
   "cell_type": "code",
   "execution_count": 23,
   "id": "38f3831f-8a14-446b-a56f-5c7875a09ce1",
   "metadata": {},
   "outputs": [
    {
     "name": "stdout",
     "output_type": "stream",
     "text": [
      "313/313 - 1s - 2ms/step - accuracy: 0.1000 - loss: 2.3026\n",
      "Acurácia no teste: 0.10\n"
     ]
    }
   ],
   "source": [
    "test_loss, test_acc = model.evaluate(x_test, y_test, verbose=2)\n",
    "print(f'Acurácia no teste: {test_acc:.2f}')"
   ]
  },
  {
   "cell_type": "code",
   "execution_count": null,
   "id": "4e9c48f1-cc69-4e61-b286-10c8962ac510",
   "metadata": {},
   "outputs": [],
   "source": []
  },
  {
   "cell_type": "code",
   "execution_count": null,
   "id": "5640abb6-8900-4e70-8392-565193362d86",
   "metadata": {},
   "outputs": [],
   "source": []
  },
  {
   "cell_type": "code",
   "execution_count": null,
   "id": "2571218d-7896-4410-9b90-73883452e0fb",
   "metadata": {},
   "outputs": [],
   "source": []
  },
  {
   "cell_type": "code",
   "execution_count": null,
   "id": "ca06783d-7eaf-4ec3-950f-becb14e89cc3",
   "metadata": {},
   "outputs": [],
   "source": []
  },
  {
   "cell_type": "code",
   "execution_count": null,
   "id": "69b0688a-7f05-4c5c-9549-5cfe1df9dd3d",
   "metadata": {},
   "outputs": [],
   "source": []
  },
  {
   "cell_type": "code",
   "execution_count": null,
   "id": "00de03b6-7789-46e9-9fba-ade67b53077d",
   "metadata": {},
   "outputs": [],
   "source": []
  },
  {
   "cell_type": "code",
   "execution_count": null,
   "id": "d76d6b09-017b-475d-8427-3ce66d2c96cf",
   "metadata": {},
   "outputs": [],
   "source": []
  },
  {
   "cell_type": "code",
   "execution_count": null,
   "id": "1d2cb37d-d886-46c7-87f6-9bd5147db41a",
   "metadata": {},
   "outputs": [],
   "source": []
  },
  {
   "cell_type": "code",
   "execution_count": null,
   "id": "1ecaa6e2-267b-446f-8405-aaa16d98c16b",
   "metadata": {},
   "outputs": [],
   "source": []
  },
  {
   "cell_type": "code",
   "execution_count": null,
   "id": "01acceba-a49f-44f3-9b62-907373a8f49c",
   "metadata": {},
   "outputs": [],
   "source": []
  },
  {
   "cell_type": "code",
   "execution_count": null,
   "id": "373b76ce-adae-41a0-89bf-b2278073c9ac",
   "metadata": {},
   "outputs": [],
   "source": []
  },
  {
   "cell_type": "code",
   "execution_count": null,
   "id": "49135920-5462-48c0-a103-5e7499404bb2",
   "metadata": {},
   "outputs": [],
   "source": []
  },
  {
   "cell_type": "code",
   "execution_count": null,
   "id": "a67ae933-403f-45cf-b75c-86ce1a259665",
   "metadata": {},
   "outputs": [],
   "source": []
  },
  {
   "cell_type": "code",
   "execution_count": null,
   "id": "39c2ad9c-4dbb-4e22-9c00-c71e9a8e44af",
   "metadata": {},
   "outputs": [],
   "source": []
  },
  {
   "cell_type": "code",
   "execution_count": null,
   "id": "e80d7e9b-f829-403c-bd5c-c1f6872541a7",
   "metadata": {},
   "outputs": [],
   "source": []
  },
  {
   "cell_type": "code",
   "execution_count": null,
   "id": "119c2b5f-341d-4187-aee6-ead0e1ba608b",
   "metadata": {},
   "outputs": [],
   "source": []
  },
  {
   "cell_type": "code",
   "execution_count": null,
   "id": "e212207f-f7f8-4ee6-ad30-78a5eff32d4d",
   "metadata": {},
   "outputs": [],
   "source": []
  },
  {
   "cell_type": "code",
   "execution_count": null,
   "id": "04d6307c-b3ab-4a1b-a4b6-b2c65ef9ecb4",
   "metadata": {},
   "outputs": [],
   "source": []
  },
  {
   "cell_type": "code",
   "execution_count": null,
   "id": "92162c8a-0cc6-4280-a546-72a1de97c63f",
   "metadata": {},
   "outputs": [],
   "source": []
  },
  {
   "cell_type": "code",
   "execution_count": null,
   "id": "5db97039-b295-4da8-9254-ad241e99ca59",
   "metadata": {},
   "outputs": [],
   "source": []
  },
  {
   "cell_type": "code",
   "execution_count": null,
   "id": "3a96ccac-222f-40e4-8601-0595da656ebb",
   "metadata": {},
   "outputs": [],
   "source": []
  },
  {
   "cell_type": "code",
   "execution_count": null,
   "id": "a780183c-b692-4bf6-b7a5-1082528b6eff",
   "metadata": {},
   "outputs": [],
   "source": []
  }
 ],
 "metadata": {
  "kernelspec": {
   "display_name": "Python ML (venv)",
   "language": "python",
   "name": "machine_learning"
  },
  "language_info": {
   "codemirror_mode": {
    "name": "ipython",
    "version": 3
   },
   "file_extension": ".py",
   "mimetype": "text/x-python",
   "name": "python",
   "nbconvert_exporter": "python",
   "pygments_lexer": "ipython3",
   "version": "3.10.5"
  }
 },
 "nbformat": 4,
 "nbformat_minor": 5
}
