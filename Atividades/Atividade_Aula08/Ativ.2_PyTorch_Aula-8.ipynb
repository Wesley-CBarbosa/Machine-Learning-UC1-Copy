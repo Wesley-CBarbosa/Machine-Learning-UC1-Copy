{
 "cells": [
  {
   "cell_type": "code",
   "execution_count": 1,
   "id": "ccd55434-1c8a-4a32-991f-853c8cb23405",
   "metadata": {},
   "outputs": [],
   "source": [
    "import torch\n",
    "import torch.nn as nn\n",
    "import torch.optim as optim\n",
    "import numpy as np\n",
    "import matplotlib.pyplot as plt"
   ]
  },
  {
   "cell_type": "code",
   "execution_count": 20,
   "id": "93820ec4-c764-47fe-b57f-a03c3df5f719",
   "metadata": {},
   "outputs": [
    {
     "name": "stdout",
     "output_type": "stream",
     "text": [
      "Dados de entrada (X):\n",
      "[[1]\n",
      " [2]\n",
      " [3]\n",
      " [4]\n",
      " [5]]\n",
      "\n",
      "Dados de saída (Y):\n",
      "[2.49671415 3.8617357  6.64768854 9.52302986 9.76584663]\n",
      "\n"
     ]
    }
   ],
   "source": [
    "# Passo 2: Dados simulados com mais amostras e leve ruído\n",
    "np.random.seed(42)     # Para reprodutividade \n",
    "X = np.arange(1, 51).reshape(-1, 1)     # X de 1 à 10\n",
    "Y = 2 * X.flatten() + np.random.normal(0, 1, size=X.shape[0])    # Y = 2x + ruído\n",
    "\n",
    "print(\"Dados de entrada (X):\")\n",
    "print(X[0:5])\n",
    "print(\"\\nDados de saída (Y):\")\n",
    "print(Y[0:5])\n",
    "print()"
   ]
  },
  {
   "cell_type": "code",
   "execution_count": 21,
   "id": "7b03c67e-ac36-4447-97d7-5453e7a68a95",
   "metadata": {},
   "outputs": [],
   "source": [
    "# Passo 2: Convertendo dados para tensores sdo pytorch\n",
    "X_tensor = torch.tensor(X, dtype=torch.float32)\n",
    "Y_tensor = torch.tensor(Y, dtype=torch.float32).view(-1, 1) # Garantir formato 2D"
   ]
  },
  {
   "cell_type": "code",
   "execution_count": 22,
   "id": "ef18b0fd-c701-4cf6-8ee6-193598da2235",
   "metadata": {},
   "outputs": [],
   "source": [
    "# Passo 3: Dividindo os dados em treino e teste\n",
    "# Como estamos no PyTorch, vamos fazer manualmente\n",
    "train_size = int(0.8 * len(X_tensor))\n",
    "X_train, X_test = X_tensor[:train_size], X_tensor[train_size:]\n",
    "Y_train, Y_test = Y_tensor[:train_size], Y_tensor[train_size:]"
   ]
  },
  {
   "cell_type": "code",
   "execution_count": 23,
   "id": "069bdd6a-1140-41a5-909d-b241e4cd60c2",
   "metadata": {},
   "outputs": [
    {
     "name": "stdout",
     "output_type": "stream",
     "text": [
      "\n",
      "X_treino: [ 1.  2.  3.  4.  5.  6.  7.  8.  9. 10. 11. 12. 13. 14. 15. 16. 17. 18.\n",
      " 19. 20. 21. 22. 23. 24. 25. 26. 27. 28. 29. 30. 31. 32. 33. 34. 35. 36.\n",
      " 37. 38. 39. 40.]\n",
      "Y_treino: [ 2.496714   3.8617356  6.6476884  9.52303    9.765846  11.765863\n",
      " 15.579213  16.767435  17.530525  20.54256   21.536583  23.53427\n",
      " 26.241962  26.08672   28.275082  31.437712  32.987167  36.314247\n",
      " 37.091976  38.587696  43.46565   43.774223  46.067528  46.575253\n",
      " 49.455616  52.110924  52.849007  56.375698  57.39936   59.708305\n",
      " 61.398293  65.85228   65.9865    66.94229   70.82255   70.77916\n",
      " 74.20886   74.04033   76.671814  80.19686  ]\n",
      "X_teste: [41. 42. 43. 44. 45. 46. 47. 48. 49. 50.]\n",
      "Y_teste: [82.738464 84.17137  85.88435  87.6989   88.52148  91.28016  93.53936\n",
      " 97.05712  98.34362  98.23696 ]\n"
     ]
    }
   ],
   "source": [
    "print(\"\\nX_treino:\", X_train.numpy().flatten())\n",
    "print(\"Y_treino:\", Y_train.numpy().flatten())\n",
    "print(\"X_teste:\", X_test.numpy().flatten())\n",
    "print(\"Y_teste:\", Y_test.numpy().flatten())"
   ]
  },
  {
   "cell_type": "code",
   "execution_count": 24,
   "id": "a76795e1-2137-4a7c-81a8-29b5f2a6ba83",
   "metadata": {},
   "outputs": [],
   "source": [
    "# Passo 4: Definindo o modelo de regressão linear\n",
    "class LinearRegression(nn.Module):\n",
    "    def __init__(self):\n",
    "        super(LinearRegression, self).__init__()\n",
    "        self.linear = nn.Linear(1, 1)  # Camada linear: y = a*x + b\n",
    "\n",
    "    def forward(self, x):\n",
    "        return self.linear(x)\n",
    "\n",
    "model = LinearRegression()"
   ]
  },
  {
   "cell_type": "code",
   "execution_count": 25,
   "id": "caf2ac26-ecf8-41e6-8ec0-0007b69412c7",
   "metadata": {},
   "outputs": [],
   "source": [
    "# Passo 5: Definindo função de perda e otimizador\n",
    "criterion = nn.MSELoss()\n",
    "optimizer = optim.SGD(model.parameters(), lr=0.001)"
   ]
  },
  {
   "cell_type": "code",
   "execution_count": 26,
   "id": "68794929-3a1b-4644-a9dc-05bf4719748c",
   "metadata": {},
   "outputs": [
    {
     "name": "stdout",
     "output_type": "stream",
     "text": [
      "Época [10/1000], Perda: 0.8316\n",
      "Época [20/1000], Perda: 0.8315\n",
      "Época [30/1000], Perda: 0.8315\n",
      "Época [40/1000], Perda: 0.8315\n",
      "Época [50/1000], Perda: 0.8315\n",
      "Época [60/1000], Perda: 0.8315\n",
      "Época [70/1000], Perda: 0.8315\n",
      "Época [80/1000], Perda: 0.8314\n",
      "Época [90/1000], Perda: 0.8314\n",
      "Época [100/1000], Perda: 0.8314\n",
      "Época [110/1000], Perda: 0.8314\n",
      "Época [120/1000], Perda: 0.8314\n",
      "Época [130/1000], Perda: 0.8314\n",
      "Época [140/1000], Perda: 0.8313\n",
      "Época [150/1000], Perda: 0.8313\n",
      "Época [160/1000], Perda: 0.8313\n",
      "Época [170/1000], Perda: 0.8313\n",
      "Época [180/1000], Perda: 0.8313\n",
      "Época [190/1000], Perda: 0.8313\n",
      "Época [200/1000], Perda: 0.8312\n",
      "Época [210/1000], Perda: 0.8312\n",
      "Época [220/1000], Perda: 0.8312\n",
      "Época [230/1000], Perda: 0.8312\n",
      "Época [240/1000], Perda: 0.8312\n",
      "Época [250/1000], Perda: 0.8312\n",
      "Época [260/1000], Perda: 0.8312\n",
      "Época [270/1000], Perda: 0.8311\n",
      "Época [280/1000], Perda: 0.8311\n",
      "Época [290/1000], Perda: 0.8311\n",
      "Época [300/1000], Perda: 0.8311\n",
      "Época [310/1000], Perda: 0.8311\n",
      "Época [320/1000], Perda: 0.8311\n",
      "Época [330/1000], Perda: 0.8311\n",
      "Época [340/1000], Perda: 0.8310\n",
      "Época [350/1000], Perda: 0.8310\n",
      "Época [360/1000], Perda: 0.8310\n",
      "Época [370/1000], Perda: 0.8310\n",
      "Época [380/1000], Perda: 0.8310\n",
      "Época [390/1000], Perda: 0.8310\n",
      "Época [400/1000], Perda: 0.8310\n",
      "Época [410/1000], Perda: 0.8309\n",
      "Época [420/1000], Perda: 0.8309\n",
      "Época [430/1000], Perda: 0.8309\n",
      "Época [440/1000], Perda: 0.8309\n",
      "Época [450/1000], Perda: 0.8309\n",
      "Época [460/1000], Perda: 0.8309\n",
      "Época [470/1000], Perda: 0.8309\n",
      "Época [480/1000], Perda: 0.8309\n",
      "Época [490/1000], Perda: 0.8309\n",
      "Época [500/1000], Perda: 0.8308\n",
      "Época [510/1000], Perda: 0.8308\n",
      "Época [520/1000], Perda: 0.8308\n",
      "Época [530/1000], Perda: 0.8308\n",
      "Época [540/1000], Perda: 0.8308\n",
      "Época [550/1000], Perda: 0.8308\n",
      "Época [560/1000], Perda: 0.8308\n",
      "Época [570/1000], Perda: 0.8308\n",
      "Época [580/1000], Perda: 0.8307\n",
      "Época [590/1000], Perda: 0.8307\n",
      "Época [600/1000], Perda: 0.8307\n",
      "Época [610/1000], Perda: 0.8307\n",
      "Época [620/1000], Perda: 0.8307\n",
      "Época [630/1000], Perda: 0.8307\n",
      "Época [640/1000], Perda: 0.8307\n",
      "Época [650/1000], Perda: 0.8307\n",
      "Época [660/1000], Perda: 0.8307\n",
      "Época [670/1000], Perda: 0.8307\n",
      "Época [680/1000], Perda: 0.8306\n",
      "Época [690/1000], Perda: 0.8306\n",
      "Época [700/1000], Perda: 0.8306\n",
      "Época [710/1000], Perda: 0.8306\n",
      "Época [720/1000], Perda: 0.8306\n",
      "Época [730/1000], Perda: 0.8306\n",
      "Época [740/1000], Perda: 0.8306\n",
      "Época [750/1000], Perda: 0.8306\n",
      "Época [760/1000], Perda: 0.8306\n",
      "Época [770/1000], Perda: 0.8306\n",
      "Época [780/1000], Perda: 0.8306\n",
      "Época [790/1000], Perda: 0.8305\n",
      "Época [800/1000], Perda: 0.8305\n",
      "Época [810/1000], Perda: 0.8305\n",
      "Época [820/1000], Perda: 0.8305\n",
      "Época [830/1000], Perda: 0.8305\n",
      "Época [840/1000], Perda: 0.8305\n",
      "Época [850/1000], Perda: 0.8305\n",
      "Época [860/1000], Perda: 0.8305\n",
      "Época [870/1000], Perda: 0.8305\n",
      "Época [880/1000], Perda: 0.8305\n",
      "Época [890/1000], Perda: 0.8305\n",
      "Época [900/1000], Perda: 0.8305\n",
      "Época [910/1000], Perda: 0.8304\n",
      "Época [920/1000], Perda: 0.8304\n",
      "Época [930/1000], Perda: 0.8304\n",
      "Época [940/1000], Perda: 0.8304\n",
      "Época [950/1000], Perda: 0.8304\n",
      "Época [960/1000], Perda: 0.8304\n",
      "Época [970/1000], Perda: 0.8304\n",
      "Época [980/1000], Perda: 0.8304\n",
      "Época [990/1000], Perda: 0.8304\n",
      "Época [1000/1000], Perda: 0.8304\n"
     ]
    }
   ],
   "source": [
    "# Passo 6: Treinamento de modelo\n",
    "epochs = 1000\n",
    "for epoch in range(epochs):\n",
    "    # Forward pass\n",
    "    outputs = model(X_train)\n",
    "    loss = criterion(outputs, Y_train)\n",
    "\n",
    "    # Backward pass e otimização\n",
    "    optimizer.zero_grad()\n",
    "    loss.backward()\n",
    "    optimizer.step()\n",
    "\n",
    "    if (epoch + 1) % 10 == 0:\n",
    "        print(f'Época [{epoch+1}/{epochs}], Perda: {loss.item():.4f}')\n"
   ]
  },
  {
   "cell_type": "code",
   "execution_count": 27,
   "id": "41e06419-e194-4cf9-ab98-057810cebb3a",
   "metadata": {},
   "outputs": [],
   "source": [
    "model.eval()\n",
    "with torch.no_grad():\n",
    "    Y_pred = model(X_test)"
   ]
  },
  {
   "cell_type": "code",
   "execution_count": 28,
   "id": "881c8bf9-ae1f-4c16-8f53-d96cbc6cad99",
   "metadata": {},
   "outputs": [
    {
     "name": "stdout",
     "output_type": "stream",
     "text": [
      "Valores reais:    [82.738464 84.17137  85.88435  87.6989   88.52148  91.28016  93.53936\n",
      " 97.05712  98.34362  98.23696 ]\n",
      "Valores previstos: [81.334015 83.31155  85.28907  87.266594 89.24412  91.22164  93.19917\n",
      " 95.1767   97.15422  99.131744]\n"
     ]
    }
   ],
   "source": [
    "# Comparando valores reais com previsões\n",
    "print(\"Valores reais:   \", Y_test.numpy().flatten())\n",
    "print(\"Valores previstos:\", Y_pred.numpy().flatten())"
   ]
  },
  {
   "cell_type": "code",
   "execution_count": 29,
   "id": "47aaba8c-af55-489b-87cb-f99ecb8f5bff",
   "metadata": {},
   "outputs": [
    {
     "name": "stdout",
     "output_type": "stream",
     "text": [
      "\n",
      "Erro Médio Quadrático (MSE): 0.9646\n"
     ]
    }
   ],
   "source": [
    "mse = criterion(Y_pred, Y_test).item()\n",
    "print(\"\\nErro Médio Quadrático (MSE):\", round(mse, 4))"
   ]
  },
  {
   "cell_type": "code",
   "execution_count": 30,
   "id": "8905b24a-a9e0-4e08-8d35-efed3cf1dc6c",
   "metadata": {},
   "outputs": [
    {
     "data": {
      "image/png": "[encoded data removed]",
      "text/plain": [
       "<Figure size 1200x500 with 2 Axes>"
      ]
     },
     "metadata": {},
     "output_type": "display_data"
    }
   ],
   "source": [
    "# Passo 8: Visualizando os resultados\n",
    "plt.figure(figsize=(12, 5))\n",
    "\n",
    "# Gráfico 1: Dados de treino e linha da regressão\n",
    "plt.subplot(1, 2, 1)\n",
    "plt.scatter(X_train.detach().numpy(), Y_train.detach().numpy(), color='blue', label='Dados de Treino')\n",
    "plt.plot(X_train.detach().numpy(), model(X_train).detach().numpy(), color='red', label='Modelo Treinado')\n",
    "plt.title('Modelo Treinado vs Dados de Treino')\n",
    "plt.xlabel('X')\n",
    "plt.ylabel('Y')\n",
    "plt.legend()\n",
    "\n",
    "# Gráfico 2: Comparando previsões com valores reais no conjunto de teste\n",
    "plt.subplot(1, 2, 2)\n",
    "plt.scatter(X_test.detach().numpy(), Y_test.detach().numpy(), color='green', label='Real')\n",
    "plt.scatter(X_test.detach().numpy(), Y_pred.detach().numpy(), color='orange', marker='x', s=100, label='Previsto')\n",
    "plt.plot(X_test.detach().numpy(), Y_pred.detach().numpy(), color='orange', linestyle='--')\n",
    "plt.title('Previsões vs Valores Reais (Teste)')\n",
    "plt.xlabel('X')\n",
    "plt.ylabel('Y')\n",
    "plt.legend()\n",
    "\n",
    "plt.tight_layout()\n",
    "plt.show()\n"
   ]
  },
  {
   "cell_type": "code",
   "execution_count": null,
   "id": "c880e9ab-f41d-4b4f-a568-3605117eb086",
   "metadata": {},
   "outputs": [],
   "source": []
  },
  {
   "cell_type": "code",
   "execution_count": null,
   "id": "144ad1f0-2ca5-4b33-9746-c9567bc3ebcd",
   "metadata": {},
   "outputs": [],
   "source": []
  },
  {
   "cell_type": "code",
   "execution_count": null,
   "id": "f6d3e3c7-6d69-4324-9103-6b849ac611a8",
   "metadata": {},
   "outputs": [],
   "source": []
  },
  {
   "cell_type": "code",
   "execution_count": null,
   "id": "1afaf9ad-6540-4857-8611-724052418a99",
   "metadata": {},
   "outputs": [],
   "source": []
  },
  {
   "cell_type": "code",
   "execution_count": null,
   "id": "6bcf4d6d-3d02-48bc-9fab-577b3b1510a9",
   "metadata": {},
   "outputs": [],
   "source": []
  },
  {
   "cell_type": "code",
   "execution_count": null,
   "id": "dbb1f8fd-d765-4f42-a08b-95a63d1df38e",
   "metadata": {},
   "outputs": [],
   "source": []
  },
  {
   "cell_type": "code",
   "execution_count": null,
   "id": "4e64d7f5-c307-4201-9c3b-0e3dd254a05c",
   "metadata": {},
   "outputs": [],
   "source": []
  },
  {
   "cell_type": "code",
   "execution_count": null,
   "id": "a8e54505-b165-48e7-9e7f-48508f326689",
   "metadata": {},
   "outputs": [],
   "source": []
  },
  {
   "cell_type": "code",
   "execution_count": null,
   "id": "c1ddc0df-c314-49de-bc05-c96a73a9ec7a",
   "metadata": {},
   "outputs": [],
   "source": []
  },
  {
   "cell_type": "code",
   "execution_count": null,
   "id": "706b4815-aade-470b-ac48-7c8f61823d51",
   "metadata": {},
   "outputs": [],
   "source": []
  },
  {
   "cell_type": "code",
   "execution_count": null,
   "id": "4beda95f-80ff-47ee-9b98-0a0abf162f75",
   "metadata": {},
   "outputs": [],
   "source": []
  },
  {
   "cell_type": "code",
   "execution_count": null,
   "id": "65ac9184-7b04-4a63-8764-3f31ca5bc5cd",
   "metadata": {},
   "outputs": [],
   "source": []
  },
  {
   "cell_type": "code",
   "execution_count": null,
   "id": "330e2372-46fa-40fd-8dba-da9a342e7b09",
   "metadata": {},
   "outputs": [],
   "source": []
  },
  {
   "cell_type": "code",
   "execution_count": null,
   "id": "077f0ccd-83f6-4d3c-925f-4548c5bfcf7a",
   "metadata": {},
   "outputs": [],
   "source": []
  },
  {
   "cell_type": "code",
   "execution_count": null,
   "id": "f1cac997-41d7-43d7-86cf-a1edd4d4eed3",
   "metadata": {},
   "outputs": [],
   "source": []
  },
  {
   "cell_type": "code",
   "execution_count": null,
   "id": "7f0c44e2-48b3-4055-bbc9-0368a16a109e",
   "metadata": {},
   "outputs": [],
   "source": []
  },
  {
   "cell_type": "code",
   "execution_count": null,
   "id": "adfe4b05-2def-4d6d-b394-e1f900ab5ef7",
   "metadata": {},
   "outputs": [],
   "source": []
  },
  {
   "cell_type": "code",
   "execution_count": null,
   "id": "65d209a6-dd2e-409d-86fa-15bd431113f1",
   "metadata": {},
   "outputs": [],
   "source": []
  },
  {
   "cell_type": "code",
   "execution_count": null,
   "id": "2abf0331-4dfd-4845-9534-dfe7e6857a5e",
   "metadata": {},
   "outputs": [],
   "source": []
  },
  {
   "cell_type": "code",
   "execution_count": null,
   "id": "da53cf03-698c-46ef-b9fc-8b1f2073f0bd",
   "metadata": {},
   "outputs": [],
   "source": []
  },
  {
   "cell_type": "code",
   "execution_count": null,
   "id": "820792cc-f948-4e25-ab31-8058f3034029",
   "metadata": {},
   "outputs": [],
   "source": []
  },
  {
   "cell_type": "code",
   "execution_count": null,
   "id": "1441a89c-8fe8-40ae-9eb3-bd4cfc9d5719",
   "metadata": {},
   "outputs": [],
   "source": []
  },
  {
   "cell_type": "code",
   "execution_count": null,
   "id": "6ab19a6e-824e-42d6-a81f-b31f31d4add3",
   "metadata": {},
   "outputs": [],
   "source": []
  },
  {
   "cell_type": "code",
   "execution_count": null,
   "id": "bcbc8f92-dec0-427f-a560-00beaf901cae",
   "metadata": {},
   "outputs": [],
   "source": []
  },
  {
   "cell_type": "code",
   "execution_count": null,
   "id": "58d1370e-8344-49eb-8725-87da3b81cde0",
   "metadata": {},
   "outputs": [],
   "source": []
  },
  {
   "cell_type": "code",
   "execution_count": null,
   "id": "62703ab0-bf2a-404e-a991-67e9a8c66abe",
   "metadata": {},
   "outputs": [],
   "source": []
  },
  {
   "cell_type": "code",
   "execution_count": null,
   "id": "454bc2a0-a435-42ef-a5b2-d0aac7adbd18",
   "metadata": {},
   "outputs": [],
   "source": []
  },
  {
   "cell_type": "code",
   "execution_count": null,
   "id": "b0b57bb9-ceb3-4fd4-890c-df74df6d1b0b",
   "metadata": {},
   "outputs": [],
   "source": []
  },
  {
   "cell_type": "code",
   "execution_count": null,
   "id": "4c5921fe-882f-45fa-bda8-60e6c347142a",
   "metadata": {},
   "outputs": [],
   "source": []
  },
  {
   "cell_type": "code",
   "execution_count": null,
   "id": "d9a8393d-6964-473a-9eb9-c43466ffa8d0",
   "metadata": {},
   "outputs": [],
   "source": []
  },
  {
   "cell_type": "code",
   "execution_count": null,
   "id": "55c05c1f-8ae8-4d2e-9a1e-57464767d54a",
   "metadata": {},
   "outputs": [],
   "source": []
  },
  {
   "cell_type": "code",
   "execution_count": null,
   "id": "c6297b8b-858c-4bf3-8dd2-0ae9a03116cc",
   "metadata": {},
   "outputs": [],
   "source": []
  },
  {
   "cell_type": "code",
   "execution_count": null,
   "id": "6b2f1a4e-4d31-4049-8fa1-b92742bf8b83",
   "metadata": {},
   "outputs": [],
   "source": []
  },
  {
   "cell_type": "code",
   "execution_count": null,
   "id": "b5acd239-df1e-4019-af5c-a0206b0b5581",
   "metadata": {},
   "outputs": [],
   "source": []
  },
  {
   "cell_type": "code",
   "execution_count": null,
   "id": "83df7893-b9d5-4333-965c-de0e8ad3b832",
   "metadata": {},
   "outputs": [],
   "source": []
  },
  {
   "cell_type": "code",
   "execution_count": null,
   "id": "26dc3eb3-d6c8-4c1b-8445-4e6eb6615162",
   "metadata": {},
   "outputs": [],
   "source": []
  },
  {
   "cell_type": "code",
   "execution_count": null,
   "id": "71e98f2c-8962-416d-9bc2-9de83a77ba5f",
   "metadata": {},
   "outputs": [],
   "source": []
  },
  {
   "cell_type": "code",
   "execution_count": null,
   "id": "760d886f-06c2-41f6-a42f-511acf60f8d7",
   "metadata": {},
   "outputs": [],
   "source": []
  },
  {
   "cell_type": "code",
   "execution_count": null,
   "id": "99a621fc-b874-45e1-87a2-19e7430645b9",
   "metadata": {},
   "outputs": [],
   "source": []
  }
 ],
 "metadata": {
  "kernelspec": {
   "display_name": "Python ML (venv)",
   "language": "python",
   "name": "machine_learning"
  },
  "language_info": {
   "codemirror_mode": {
    "name": "ipython",
    "version": 3
   },
   "file_extension": ".py",
   "mimetype": "text/x-python",
   "name": "python",
   "nbconvert_exporter": "python",
   "pygments_lexer": "ipython3",
   "version": "3.10.5"
  }
 },
 "nbformat": 4,
 "nbformat_minor": 5
}
